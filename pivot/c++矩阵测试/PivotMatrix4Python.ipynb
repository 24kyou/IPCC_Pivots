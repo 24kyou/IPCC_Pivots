{
 "cells": [
  {
   "cell_type": "code",
   "execution_count": 1,
   "metadata": {
    "collapsed": true
   },
   "outputs": [],
   "source": [
    "import numpy as np"
   ]
  },
  {
   "cell_type": "code",
   "execution_count": 43,
   "metadata": {},
   "outputs": [],
   "source": [
    "column=2\n",
    "row=500\n",
    "pivotValue=2\n",
    "MatirxOrigin=np.random.rand(row,column)"
   ]
  },
  {
   "cell_type": "code",
   "execution_count": 72,
   "metadata": {},
   "outputs": [
    {
     "data": {
      "text/plain": [
       "1000"
      ]
     },
     "execution_count": 72,
     "metadata": {},
     "output_type": "execute_result"
    }
   ],
   "source": [
    "num=str(row).__len__()\n",
    "RowIDTimes=10**num\n",
    "RowIDTimes"
   ]
  },
  {
   "cell_type": "code",
   "execution_count": 73,
   "metadata": {},
   "outputs": [],
   "source": [
    "MatrixRowID=np.zeros((row,row),dtype=int)\n",
    "num=str(row).__len__()\n",
    "RowIDTimes=10**num\n",
    "# for rowI in range(row):\n",
    "#     MatrixRowID[rowI]=rowI+1\n",
    "# # MatrixRowID=MatrixRowID.astype(str)\n",
    "for rowI in range(row):\n",
    "    MatrixRowID[rowI]=rowI\n",
    "MatrixRowID=MatrixRowID.astype(str)"
   ]
  },
  {
   "cell_type": "markdown",
   "metadata": {},
   "source": [
    "### 由于最后计算得到的矩阵在Pivot数大于2的情况下无法反推原始Pivot集合,因此设置一个新的用于在遍历过程中存储Pivot点的numpy数组\n",
    "numpy数组的属性为str 其读入方式为 ' '+str(rowJ) "
   ]
  },
  {
   "cell_type": "code",
   "execution_count": 75,
   "metadata": {},
   "outputs": [],
   "source": [
    "MatirxNew=np.zeros((row,row))\n",
    "for rowI in range(row):\n",
    "    for rowJ in range(row):\n",
    "        # if rowI==rowJ:\n",
    "        #     continue\n",
    "        MatirxNew[rowI][rowJ]=np.sqrt(np.sum(np.square(MatirxOrigin[rowI]-MatirxOrigin[rowJ])))"
   ]
  },
  {
   "cell_type": "code",
   "execution_count": 76,
   "metadata": {},
   "outputs": [
    {
     "name": "stdout",
     "output_type": "stream",
     "text": [
      "0\n"
     ]
    }
   ],
   "source": [
    "MatirxPivots=np.zeros((row,row))\n",
    "MatirxD=np.zeros((row,row))\n",
    "for i in range(pivotValue-1):\n",
    "    print(i)\n",
    "    for rowI in range(row):\n",
    "        for rowJ in range(row):\n",
    "            # if rowI==rowJ: \n",
    "            #     continue\n",
    "            # 添加上比较后相较于原版慢了500ms\n",
    "            if i==0:\n",
    "                MatirxD[rowI][rowJ]=np.sum(np.abs(MatirxNew[rowI]-MatirxNew[rowJ])).max()\n",
    "                # 这里还需要判读max()加在外面对于最终计算的精度的影响\n",
    "            else:\n",
    "                MatirxD[rowI][rowJ]=np.sum(np.abs(MatirxPivots[rowI]-MatirxNew[rowJ])).max()\n",
    "            MatrixRowID[rowI][rowJ]=MatrixRowID[rowI][rowJ]*RowIDTimes+rowJ+1\n",
    "    MatirxPivots=MatirxD\n"
   ]
  },
  {
   "cell_type": "code",
   "execution_count": 58,
   "metadata": {},
   "outputs": [],
   "source": [
    "MatirxNew=np.zeros((row,row))\n",
    "for rowI in range(row):\n",
    "    for rowJ in range(row):\n",
    "        if rowI==rowJ:\n",
    "            continue\n",
    "        MatirxNew[rowI][rowJ]=np.sqrt(np.sum(np.square(MatirxOrigin[rowI]-MatirxOrigin[rowJ])))"
   ]
  },
  {
   "cell_type": "markdown",
   "metadata": {},
   "source": [
    "很难说 添加了比较语句后 性能是提高还是下降"
   ]
  },
  {
   "cell_type": "code",
   "execution_count": 84,
   "metadata": {},
   "outputs": [],
   "source": [
    "MatrixRowID=np.zeros((row,row),dtype=int)\n",
    "num=str(row).__len__()\n",
    "RowIDTimes=10**num\n",
    "for rowI in range(row):\n",
    "    MatrixRowID[rowI]=rowI\n",
    "MatrixRowID=MatrixRowID.astype(str)"
   ]
  },
  {
   "cell_type": "code",
   "execution_count": 87,
   "metadata": {},
   "outputs": [],
   "source": [
    "for rowI in range(row):\n",
    "    for rowJ in range(row):\n",
    "        MatrixRowID[rowI][rowJ]=MatrixRowID[rowI][rowJ]+' '+str(rowJ)"
   ]
  },
  {
   "cell_type": "code",
   "execution_count": 95,
   "metadata": {},
   "outputs": [
    {
     "name": "stdout",
     "output_type": "stream",
     "text": [
      "1 2\n"
     ]
    }
   ],
   "source": [
    "print (MatrixRowID[1][2])\n",
    "#经过测试 可以顺利打印出 p点集合\n"
   ]
  },
  {
   "cell_type": "code",
   "execution_count": null,
   "metadata": {},
   "outputs": [],
   "source": []
  }
 ],
 "metadata": {
  "kernelspec": {
   "display_name": "Python 3.7.10 ('pytorch-cpu')",
   "language": "python",
   "name": "python3"
  },
  "language_info": {
   "codemirror_mode": {
    "name": "ipython",
    "version": 3
   },
   "file_extension": ".py",
   "mimetype": "text/x-python",
   "name": "python",
   "nbconvert_exporter": "python",
   "pygments_lexer": "ipython3",
   "version": "3.7.10"
  },
  "vscode": {
   "interpreter": {
    "hash": "24cf4ef74d3d8f3af5f575c15ec1446526047eb643281a6bb534190dfbfbc26a"
   }
  }
 },
 "nbformat": 4,
 "nbformat_minor": 0
}
